{
 "cells": [
  {
   "cell_type": "code",
   "execution_count": 22,
   "metadata": {},
   "outputs": [
    {
     "name": "stdout",
     "output_type": "stream",
     "text": [
      "a) se pide identificar X y Y \n",
      "     area = X\n",
      "     precio = Y\n",
      "b) Determinar a y b \n",
      "     a = 73167.75 \n",
      "     b = 38.52  \n",
      "\n",
      "c) Es pendiente negativa o positiva\n",
      "     La pendiente es positiva deacuerda a la recta del grafico que esta subiendo\n",
      "\n"
     ]
    },
    {
     "data": {
      "image/png": "[encoded data removed]",
      "text/plain": [
       "<Figure size 432x288 with 1 Axes>"
      ]
     },
     "metadata": {
      "needs_background": "light"
     },
     "output_type": "display_data"
    },
    {
     "name": "stdout",
     "output_type": "stream",
     "text": [
      "\n",
      "\n",
      "d) Diagrama de dispersion\n"
     ]
    },
    {
     "data": {
      "image/png": "[encoded data removed]",
      "text/plain": [
       "<Figure size 432x288 with 1 Axes>"
      ]
     },
     "metadata": {
      "needs_background": "light"
     },
     "output_type": "display_data"
    },
    {
     "name": "stdout",
     "output_type": "stream",
     "text": [
      "\n",
      "\n",
      "e) Analizar y comentar sobre la prediccion del precio\n",
      "\n",
      "     Ecuacion de mejor ajuste \n",
      "      y = 73167.75 + 38.52 * x \n",
      "\n",
      "      111690.82  =  73167.75 + 38.52 * 1000\n",
      "      119395.43  =  73167.75 + 38.52 * 1200\n",
      "      134804.66  =  73167.75 + 38.52 * 1600\n",
      "      150213.89  =  73167.75 + 38.52 * 2000\n",
      "      154066.2  =  73167.75 + 38.52 * 2100\n",
      "     como se puede ver cuando el area es mas grande el precio es mas elevado\n"
     ]
    }
   ],
   "source": [
    "import numpy as np\n",
    "import matplotlib.pyplot as plt\n",
    "area=[3060,1600,2000,1300,2000,1956,2400,1200,1800,1248,2025,1800,1100,3000,2000]\n",
    "precio=[179000,126500,134500,125000,142000,164000,146000,129000,135000,118500,160000,152000,122500,220000,141000]\n",
    "\n",
    "\n",
    "n=len(area)\n",
    "n1=len(precio)\n",
    "area=np.array(area)\n",
    "precio=np.array(precio)\n",
    "#sumando los vectores de x y y\n",
    "sum_area=sum(area)\n",
    "sum_precio=sum(precio)\n",
    "\n",
    "#obteniendo los promedios\n",
    "prom_area=sum_area/n\n",
    "prom_precio=sum_precio/n1\n",
    "\n",
    "#para formula uno\n",
    "#suCu=sum(pow(hora,2))\n",
    "#sumaxy=sum(hora*calificacion)\n",
    "#b=(sumhora*sum_calificacion-n*sumaxy)/(sumhora*sumhora-n*suCu)\n",
    "\n",
    "\n",
    "#para formula dos\n",
    "\n",
    "#elevando al cuadrado la parte de abajo\n",
    "parte_abajo=sum(pow(area-prom_area,2))\n",
    "parte_arriba=sum((area-prom_area)*(precio-prom_precio))\n",
    "b=(parte_arriba)/(parte_abajo)\n",
    "a=prom_precio-b*prom_area\n",
    "print(\"a) se pide identificar X y Y \\n     area = X\\n     precio = Y\")\n",
    "    \n",
    "print(\"b) Determinar a y b \\n     a =\",round(a,2),\"\\n     b =\",round(b,2),\" \\n\")\n",
    "\n",
    "print(\"c) Es pendiente negativa o positiva\\n     La pendiente es positiva deacuerda a la recta del grafico que esta subiendo\\n\")\n",
    "#x,o,y\n",
    "plt.plot(area,precio,'o',Label='datos')\n",
    "#x,a+b*x\n",
    "plt.plot(area,a+b*area,Label='Ajuste')\n",
    "plt.xlabel('Area')\n",
    "plt.ylabel('precio')\n",
    "plt.grid()#para poner al grafico lineas\n",
    "plt.legend()\n",
    "plt.show()\n",
    "print(\"\\n\")\n",
    "\n",
    "print(\"d) Diagrama de dispersion\")\n",
    "#x,o,y\n",
    "plt.plot(area,precio,'o',Label='datos')\n",
    "#x,a+b*x\n",
    "#plt.plot(area,a+b*area,Label='Ajuste')\n",
    "plt.xlabel('Area')\n",
    "plt.ylabel('precio')\n",
    "plt.grid()#para poner al grafico lineas\n",
    "plt.legend()\n",
    "plt.show()\n",
    "print(\"\\n\")\n",
    "\n",
    "ve=[1000,1200,1600,2000,2100]\n",
    "print(\"e) Analizar y comentar sobre la prediccion del precio\\n\")\n",
    "print(\"     Ecuacion de mejor ajuste \\n      y =\",round(a,2),\"+\",round(b,2),\"* x \\n\")\n",
    "for i in range(0,5):\n",
    "    ree=a+b*ve[i]\n",
    "    print(\"     \",round(ree,2),\" = \",round(a,2),\"+\",round(b,2),\"*\",ve[i])\n",
    "\n",
    "\n",
    "print(\"     como se puede ver cuando el area es mas grande el precio es mas elevado\")"
   ]
  },
  {
   "cell_type": "code",
   "execution_count": null,
   "metadata": {},
   "outputs": [],
   "source": []
  }
 ],
 "metadata": {
  "kernelspec": {
   "display_name": "Python 3",
   "language": "python",
   "name": "python3"
  },
  "language_info": {
   "codemirror_mode": {
    "name": "ipython",
    "version": 3
   },
   "file_extension": ".py",
   "mimetype": "text/x-python",
   "name": "python",
   "nbconvert_exporter": "python",
   "pygments_lexer": "ipython3",
   "version": "3.7.3"
  }
 },
 "nbformat": 4,
 "nbformat_minor": 2
}
