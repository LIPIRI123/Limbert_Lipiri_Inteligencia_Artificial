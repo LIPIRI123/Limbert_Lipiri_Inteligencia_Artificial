{
 "cells": [
  {
   "cell_type": "code",
   "execution_count": 17,
   "metadata": {},
   "outputs": [
    {
     "name": "stdout",
     "output_type": "stream",
     "text": [
      "a) Diagrama de dispersion\n"
     ]
    },
    {
     "data": {
      "image/png": "[encoded data removed]",
      "text/plain": [
       "<Figure size 432x288 with 1 Axes>"
      ]
     },
     "metadata": {
      "needs_background": "light"
     },
     "output_type": "display_data"
    },
    {
     "name": "stdout",
     "output_type": "stream",
     "text": [
      "\n",
      "\n",
      "b) Ecuacion de mejor ajuste \n",
      "     y = -271.136 + 16.902 (x) \n",
      "\n",
      "c) Hallar el Intercepto y la pendiente \n",
      "      el intercepto es:  -271.13621123218763 \n",
      "      la pendiente es: 16.90192791282481\n",
      "d) analizar y comentar\n",
      "     Ecuacion de la recta \n",
      "     y = -271.14 + 16.9 * x \n",
      "\n",
      "      27617.04  =  -271.14 + 16.902 * 1650\n",
      "      27633.95  =  -271.14 + 16.902 * 1651\n",
      "      27650.85  =  -271.14 + 16.902 * 1652\n",
      "      27667.75  =  -271.14 + 16.902 * 1653\n",
      "      27684.65  =  -271.14 + 16.902 * 1654\n",
      "      27701.55  =  -271.14 + 16.902 * 1655\n",
      "      27718.46  =  -271.14 + 16.902 * 1656\n",
      "      27735.36  =  -271.14 + 16.902 * 1657\n",
      "      27752.26  =  -271.14 + 16.902 * 1658\n",
      "      27769.16  =  -271.14 + 16.902 * 1659\n",
      "      27786.06  =  -271.14 + 16.902 * 1660\n",
      "\n",
      "     diacuerdo a la ecuacion de la recta ultilizada para realizar los analisis\n",
      "      nos podemos dar cuenta que cuando mas unidades se produce va aumentando el costo de operacion\n"
     ]
    }
   ],
   "source": [
    "import numpy as np\n",
    "import matplotlib.pyplot as plt\n",
    "producidas=[99,75,85,95,90,100,93,80,87,110]\n",
    "costo=[1485,900,1105,1330,1440,1200,1209,1200,1218,1650]\n",
    "#costo=[1.485,900,1.105,1.330,1.440,1.200,1.209,1.200,1.218,1.650]\n",
    "\n",
    "n=len(producidas)\n",
    "n1=len(costo)\n",
    "producidas=np.array(producidas)\n",
    "costo=np.array(costo)\n",
    "#sumando los vectores de x y y\n",
    "sum_producidas=sum(producidas)\n",
    "sum_costo=sum(costo)\n",
    "\n",
    "#obteniendo los promedios\n",
    "prom_producidas=sum_producidas/n\n",
    "prom_costo=sum_costo/n1\n",
    "\n",
    "#para formula uno\n",
    "#suCu=sum(pow(hora,2))\n",
    "#sumaxy=sum(hora*calificacion)\n",
    "#b=(sumhora*sum_calificacion-n*sumaxy)/(sumhora*sumhora-n*suCu)\n",
    "\n",
    "\n",
    "#para formula dos\n",
    "\n",
    "#elevando al cuadrado la parte de abajo\n",
    "parte_abajo=sum(pow(producidas-prom_producidas,2))\n",
    "parte_arriba=sum((producidas-prom_producidas)*(costo-prom_costo))\n",
    "b=(parte_arriba)/(parte_abajo)\n",
    "a=prom_costo-b*prom_producidas\n",
    "print(\"a) Diagrama de dispersion\")\n",
    "plt.plot(producidas,costo,'o',Label='datos')\n",
    "plt.plot(producidas,a+b*producidas,Label='Ajuste')\n",
    "plt.xlabel('Unidades Producidas')\n",
    "plt.ylabel('Costo de operacion')\n",
    "plt.grid()#para poner al grafico lineas\n",
    "plt.legend()\n",
    "plt.show()\n",
    "print(\"\\n\")\n",
    "print(\"b) Ecuacion de mejor ajuste \\n     y =\",round(a,3),\"+\",round(b,3),\"(x) \\n\")\n",
    "print(\"c) Hallar el Intercepto y la pendiente \\n      el intercepto es: \",a,\"\\n      la pendiente es:\",b)\n",
    "print(\"d) analizar y comentar\")\n",
    "print(\"     Ecuacion de la recta \\n     y =\",round(a,2),\"+\",round(b,2),\"* x \\n\")\n",
    "v=[1650,1651,1652,1653,1654,1655,1656,1657,1658,1659,1660]\n",
    "for i in range(0,11):\n",
    "    operacion=a+b*v[i]\n",
    "    print(\"     \",round(operacion,2),\" = \",round(a,2),\"+\",round(b,3),\"*\",v[i])\n",
    "\n",
    "print(\"\\n     deacuerdo a la ecuacion de la recta ultilizada para realizar los analisis\\n      nos podemos dar cuenta que cuando mas unidades se produce va aumentando el costo de operacion\")    "
   ]
  },
  {
   "cell_type": "code",
   "execution_count": null,
   "metadata": {},
   "outputs": [],
   "source": []
  }
 ],
 "metadata": {
  "kernelspec": {
   "display_name": "Python 3",
   "language": "python",
   "name": "python3"
  },
  "language_info": {
   "codemirror_mode": {
    "name": "ipython",
    "version": 3
   },
   "file_extension": ".py",
   "mimetype": "text/x-python",
   "name": "python",
   "nbconvert_exporter": "python",
   "pygments_lexer": "ipython3",
   "version": "3.7.3"
  }
 },
 "nbformat": 4,
 "nbformat_minor": 2
}
