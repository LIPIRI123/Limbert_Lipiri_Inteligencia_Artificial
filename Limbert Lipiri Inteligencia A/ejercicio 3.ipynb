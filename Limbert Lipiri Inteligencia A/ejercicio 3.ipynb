{
 "cells": [
  {
   "cell_type": "code",
   "execution_count": 33,
   "metadata": {},
   "outputs": [
    {
     "name": "stdout",
     "output_type": "stream",
     "text": [
      "a) Determinar las variables dependientes e independientes\n",
      "     variable dependiente = peso\n",
      "     variable independiente = semanas \n",
      "\n",
      "b) Determinar los coeficientes a y b \n",
      "      a = 90.9 \n",
      "      b = -2.3 \n",
      "\n",
      "c) Diagrama de dispersion\n"
     ]
    },
    {
     "data": {
      "image/png": "[encoded data removed]",
      "text/plain": [
       "<Figure size 432x288 with 1 Axes>"
      ]
     },
     "metadata": {
      "needs_background": "light"
     },
     "output_type": "display_data"
    },
    {
     "name": "stdout",
     "output_type": "stream",
     "text": [
      "d) Ecuacion de mejor ajuste \n",
      "     y = 90.9 + -2.3 (x) \n",
      "\n",
      "e) Que peso es de esperar que alcance esa persona si sigue la dieta 2 semanas mas\n",
      "\n",
      "     el peso esperado en 2 semanas mas es de:  74.80000000000001\n"
     ]
    }
   ],
   "source": [
    "import numpy as np\n",
    "import matplotlib.pyplot as plt\n",
    "semana=[1,2,3,4,5]\n",
    "peso=[88,87,84,82,79]\n",
    "\n",
    "\n",
    "n=len(semana)\n",
    "n1=len(peso)\n",
    "semana=np.array(semana)\n",
    "peso=np.array(peso)\n",
    "#sumando los vectores de x y y\n",
    "sum_semana=sum(semana)\n",
    "sum_peso=sum(peso)\n",
    "\n",
    "#obteniendo los promedios\n",
    "prom_semana=sum_semana/n\n",
    "prom_peso=sum_peso/n1\n",
    "\n",
    "#para formula uno\n",
    "#suCu=sum(pow(hora,2))\n",
    "#sumaxy=sum(hora*calificacion)\n",
    "#b=(sumhora*sum_calificacion-n*sumaxy)/(sumhora*sumhora-n*suCu)\n",
    "\n",
    "\n",
    "#para formula dos\n",
    "\n",
    "#elevando al cuadrado la parte de abajo\n",
    "parte_abajo=sum(pow(semana-prom_semana,2))\n",
    "parte_arriba=sum((semana-prom_semana)*(peso-prom_peso))\n",
    "b=(parte_arriba)/(parte_abajo)\n",
    "a=prom_peso-b*prom_semana\n",
    "\n",
    "print(\"a) Determinar las variables dependientes e independientes\")\n",
    "print(\"     variable dependiente = peso\")\n",
    "print(\"     variable independiente = semanas \\n\")\n",
    "print(\"b) Determinar los coeficientes a y b \\n      a =\",a,\"\\n      b =\",b,\"\\n\");\n",
    "    \n",
    "print(\"c) Diagrama de dispersion\")\n",
    "plt.plot(semana,peso,'o',Label='datos')\n",
    "#plt.plot(hora,a+b*hora,Label='Ajuste')\n",
    "plt.xlabel('Semanas')\n",
    "plt.ylabel('peso en kg')\n",
    "plt.grid()#para poner al grafico lineas\n",
    "plt.legend()\n",
    "plt.show()\n",
    "print(\"d) Ecuacion de mejor ajuste \\n     y =\",a,\"+\",b,\"(x) \\n\")\n",
    "print(\"e) Que peso es de esperar que alcance esa persona si sigue la dieta 2 semanas mas\\n\")\n",
    "operacion=a+b*7\n",
    "\n",
    "print(\"     el peso esperado en 2 semanas mas es de: \",operacion)\n",
    "\n"
   ]
  },
  {
   "cell_type": "code",
   "execution_count": null,
   "metadata": {},
   "outputs": [],
   "source": []
  }
 ],
 "metadata": {
  "kernelspec": {
   "display_name": "Python 3",
   "language": "python",
   "name": "python3"
  },
  "language_info": {
   "codemirror_mode": {
    "name": "ipython",
    "version": 3
   },
   "file_extension": ".py",
   "mimetype": "text/x-python",
   "name": "python",
   "nbconvert_exporter": "python",
   "pygments_lexer": "ipython3",
   "version": "3.7.3"
  }
 },
 "nbformat": 4,
 "nbformat_minor": 2
}
