{
 "cells": [
  {
   "cell_type": "code",
   "execution_count": 25,
   "metadata": {},
   "outputs": [
    {
     "name": "stdout",
     "output_type": "stream",
     "text": [
      "a) Determinar X y Y \n",
      "     X = altura\n",
      "     Y = peso\n",
      "b) Determinar el peso de un individuo a partir de su altura\n",
      "     para una persona con una estatura de 1.85 m \n",
      "     su peso ideal debe de ser de: 82.03  Kg \n",
      "\n",
      "c) Diagrama de dispersion\n",
      "\n"
     ]
    },
    {
     "data": {
      "image/png": "[encoded data removed]",
      "text/plain": [
       "<Figure size 432x288 with 1 Axes>"
      ]
     },
     "metadata": {
      "needs_background": "light"
     },
     "output_type": "display_data"
    },
    {
     "name": "stdout",
     "output_type": "stream",
     "text": [
      "\n",
      "\n",
      "e) Analizar y comentar sobre la prediccion del precio\n",
      "\n",
      "     Ecuacion de mejor ajuste \n",
      "      y = -80.22 + 0.88 * x \n",
      "\n",
      "      67.12  =  -80.22 + 0.88 * 168\n",
      "      68.0  =  -80.22 + 0.88 * 169\n",
      "      68.87  =  -80.22 + 0.88 * 170\n",
      "      69.75  =  -80.22 + 0.88 * 171\n",
      "      70.63  =  -80.22 + 0.88 * 172\n",
      "     como se puede ver los resultados obtenidos utilizando la ecuacion de la recta\n",
      "     se puede apreciar deacuerdo a la estatura va subiendo el peso de cada individuo en un  0.88  kg\n"
     ]
    }
   ],
   "source": [
    "import numpy as np\n",
    "import matplotlib.pyplot as plt\n",
    "altura=[168,196,170,175,162,169,190,186,176,170,176,179]\n",
    "peso=[74,92,63,72,58,78,85,85,73,62,80,72]\n",
    "\n",
    "\n",
    "n=len(altura)\n",
    "n1=len(peso)\n",
    "altura=np.array(altura)\n",
    "peso=np.array(peso)\n",
    "#sumando los vectores de x y y\n",
    "sum_altura=sum(altura)\n",
    "sum_peso=sum(peso)\n",
    "\n",
    "#obteniendo los promedios\n",
    "prom_altura=sum_altura/n\n",
    "prom_peso=sum_peso/n1\n",
    "\n",
    "#para formula uno\n",
    "#suCu=sum(pow(hora,2))\n",
    "#sumaxy=sum(hora*calificacion)\n",
    "#b=(sumhora*sum_calificacion-n*sumaxy)/(sumhora*sumhora-n*suCu)\n",
    "\n",
    "\n",
    "#para formula dos\n",
    "\n",
    "#elevando al cuadrado la parte de abajo\n",
    "parte_abajo=sum(pow(altura-prom_altura,2))\n",
    "parte_arriba=sum((altura-prom_altura)*(peso-prom_peso))\n",
    "b=(parte_arriba)/(parte_abajo)\n",
    "a=prom_peso-b*prom_altura\n",
    "print(\"a) Determinar X y Y \\n     X = altura\\n     Y = peso\")\n",
    "    \n",
    "print(\"b) Determinar el peso de un individuo a partir de su altura\")\n",
    "altu=a+b*185\n",
    "print(\"     para una persona con una estatura de 1.85 m \\n     su peso ideal debe de ser de:\",round(altu,2),\" Kg \\n\")\n",
    "\n",
    "print(\"c) Diagrama de dispersion\\n\")\n",
    "#x,o,y\n",
    "plt.plot(altura,peso,'o',Label='datos')\n",
    "#x,a+b*x\n",
    "#plt.plot(altura,a+b*altura,Label='Ajuste')\n",
    "plt.xlabel('Altura')\n",
    "plt.ylabel('peso')\n",
    "plt.grid()#para poner al grafico lineas\n",
    "plt.legend()\n",
    "plt.show()\n",
    "print(\"\\n\")\n",
    "\n",
    "print(\"e) Analizar y comentar sobre la prediccion del precio\\n\")\n",
    "\n",
    "print(\"     Ecuacion de mejor ajuste \\n      y =\",round(a,2),\"+\",round(b,2),\"* x \\n\")\n",
    "ve=[168,169,170,171,172,173,174,175]\n",
    "re=a+b*168\n",
    "re1=a+b*169\n",
    "for i in range(0,5):\n",
    "    ree=a+b*ve[i]\n",
    "    print(\"     \",round(ree,2),\" = \",round(a,2),\"+\",round(b,2),\"*\",ve[i])\n",
    "\n",
    "\n",
    "print(\"     como se puede ver los resultados obtenidos utilizando la ecuacion de la recta\\n     se puede apreciar deacuerdo a la estatura va subiendo el peso de cada individuo en un \",round(re1-re,2),\" kg\")"
   ]
  },
  {
   "cell_type": "code",
   "execution_count": null,
   "metadata": {},
   "outputs": [],
   "source": []
  }
 ],
 "metadata": {
  "kernelspec": {
   "display_name": "Python 3",
   "language": "python",
   "name": "python3"
  },
  "language_info": {
   "codemirror_mode": {
    "name": "ipython",
    "version": 3
   },
   "file_extension": ".py",
   "mimetype": "text/x-python",
   "name": "python",
   "nbconvert_exporter": "python",
   "pygments_lexer": "ipython3",
   "version": "3.7.3"
  }
 },
 "nbformat": 4,
 "nbformat_minor": 2
}
