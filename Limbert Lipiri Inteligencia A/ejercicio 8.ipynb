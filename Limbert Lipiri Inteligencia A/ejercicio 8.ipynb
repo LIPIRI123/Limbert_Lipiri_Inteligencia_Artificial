{
 "cells": [
  {
   "cell_type": "code",
   "execution_count": 11,
   "metadata": {},
   "outputs": [
    {
     "name": "stdout",
     "output_type": "stream",
     "text": [
      "a) Determinar X y Y \n",
      "     X = Experiencia\n",
      "     Y = Salario\n",
      "b) Diagrama de Dispersion\n"
     ]
    },
    {
     "data": {
      "image/png": "[encoded data removed]",
      "text/plain": [
       "<Figure size 432x288 with 1 Axes>"
      ]
     },
     "metadata": {
      "needs_background": "light"
     },
     "output_type": "display_data"
    },
    {
     "name": "stdout",
     "output_type": "stream",
     "text": [
      "\n",
      "\n",
      "c) Ecuacion de mejor ajuste\n",
      "\n",
      "      y = 28216.87 + 9020.64 * x \n",
      "\n",
      "d) Estime el salario de un trabajador con y  años de experiencia \n",
      "\n",
      "      El salario para una experiencia de 4 años es de: 64299.41\n",
      "      El salario para una experiencia de 5 años es de: 73320.05\n",
      "e) Analizar y comentar\n",
      "       y = 28216.87 + 9020.64 * x \n",
      "\n",
      "      64299.41  =  28216.87 + 9020.64 * 4\n",
      "      68809.73  =  28216.87 + 9020.64 * 4.5\n",
      "      73320.05  =  28216.87 + 9020.64 * 5\n",
      "      77830.36  =  28216.87 + 9020.64 * 5.5\n",
      "      82340.68  =  28216.87 + 9020.64 * 6\n",
      "      86851.0  =  28216.87 + 9020.64 * 6.5\n",
      "      91361.32  =  28216.87 + 9020.64 * 7\n",
      "     como se puede ver los resultados obtenidos utilizando la ecuacion de la recta\n",
      "     se puede apreciar que cada año de experiencia va subiendo el Salario en un  4510.32\n"
     ]
    }
   ],
   "source": [
    "import numpy as np\n",
    "import matplotlib.pyplot as plt\n",
    "experiencia=[1.1,1.3,1.5,2,2.2,2.9,3,3.2,3.2,3.7]\n",
    "salario=[39343,46205,37731,43525,39891,56642,60150,54445,64445,57189]\n",
    "\n",
    "\n",
    "n=len(experiencia)\n",
    "n1=len(salario)\n",
    "experiencia=np.array(experiencia)\n",
    "salario=np.array(salario)\n",
    "#sumando los vectores de x y y\n",
    "sum_experiencia=sum(experiencia)\n",
    "sum_salario=sum(salario)\n",
    "\n",
    "#obteniendo los promedios\n",
    "prom_experiencia=sum_experiencia/n\n",
    "prom_salario=sum_salario/n1\n",
    "\n",
    "#para formula uno\n",
    "#suCu=sum(pow(hora,2))\n",
    "#sumaxy=sum(hora*calificacion)\n",
    "#b=(sumhora*sum_calificacion-n*sumaxy)/(sumhora*sumhora-n*suCu)\n",
    "\n",
    "\n",
    "#para formula dos\n",
    "\n",
    "#elevando al cuadrado la parte de abajo\n",
    "parte_abajo=sum(pow(experiencia-prom_experiencia,2))\n",
    "parte_arriba=sum((experiencia-prom_experiencia)*(salario-prom_salario))\n",
    "b=(parte_arriba)/(parte_abajo)\n",
    "a=prom_salario-b*prom_experiencia\n",
    "print(\"a) Determinar X y Y \\n     X = Experiencia\\n     Y = Salario\")\n",
    "    \n",
    "print(\"b) Diagrama de Dispersion\")\n",
    "#x,o,y\n",
    "plt.plot(experiencia,salario,'o',Label='datos')\n",
    "#x,a+b*x\n",
    "#plt.plot(salario,a+b*salario,Label='Ajuste')\n",
    "plt.xlabel('Salario')\n",
    "plt.ylabel('Experiencia')\n",
    "plt.grid()#para poner al grafico lineas\n",
    "plt.legend()\n",
    "plt.show()\n",
    "print(\"\\n\")\n",
    "\n",
    "print(\"c) Ecuacion de mejor ajuste\\n\")\n",
    "print(\"      y =\",round(a,2),\"+\",round(b,2),\"* x \\n\")\n",
    "\n",
    "\n",
    "print(\"d) Estime el salario de un trabajador con y  años de experiencia \\n\")\n",
    "re=a+b*4\n",
    "re1=a+b*5\n",
    "print(\"      El salario para una experiencia de 4 años es de:\",round(re,2))\n",
    "print(\"      El salario para una experiencia de 5 años es de:\",round(re1,2))\n",
    "\n",
    "print(\"e) Analizar y comentar\")\n",
    "print(\"       y =\",round(a,2),\"+\",round(b,2),\"* x \\n\")\n",
    "ve=[4,4.5,5,5.5,6,6.5,7]\n",
    "re=a+b*4.5\n",
    "re1=a+b*5\n",
    "for i in range(0,7):\n",
    "    ree=a+b*ve[i]\n",
    "    print(\"     \",round(ree,2),\" = \",round(a,2),\"+\",round(b,2),\"*\",ve[i])\n",
    "\n",
    "\n",
    "print(\"     como se puede ver los resultados obtenidos utilizando la ecuacion de la recta\\n     se puede apreciar que cada año de experiencia va subiendo el Salario en un \",round(re1-re,2))"
   ]
  },
  {
   "cell_type": "code",
   "execution_count": null,
   "metadata": {},
   "outputs": [],
   "source": []
  }
 ],
 "metadata": {
  "kernelspec": {
   "display_name": "Python 3",
   "language": "python",
   "name": "python3"
  },
  "language_info": {
   "codemirror_mode": {
    "name": "ipython",
    "version": 3
   },
   "file_extension": ".py",
   "mimetype": "text/x-python",
   "name": "python",
   "nbconvert_exporter": "python",
   "pygments_lexer": "ipython3",
   "version": "3.7.3"
  }
 },
 "nbformat": 4,
 "nbformat_minor": 2
}
