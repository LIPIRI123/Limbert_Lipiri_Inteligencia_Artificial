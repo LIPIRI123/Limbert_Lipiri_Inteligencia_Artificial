{
 "cells": [
  {
   "cell_type": "code",
   "execution_count": 18,
   "metadata": {},
   "outputs": [
    {
     "name": "stdout",
     "output_type": "stream",
     "text": [
      "a) Ecuacion de mejor ajuste \n",
      "      y = 72.89 + 63.66 * x \n",
      "\n",
      "b) Diagrama de dispersion\n"
     ]
    },
    {
     "data": {
      "image/png": "[encoded data removed]",
      "text/plain": [
       "<Figure size 432x288 with 1 Axes>"
      ]
     },
     "metadata": {
      "needs_background": "light"
     },
     "output_type": "display_data"
    },
    {
     "name": "stdout",
     "output_type": "stream",
     "text": [
      "\n",
      "\n",
      "c) Pronosticar la demanda de los trimestres 13, 14 y 15 a traves de un analisis de regresion lineal\n",
      "\n",
      "     Ecuacion de mejor ajuste \n",
      "      y = 72.89 + 63.66 * x \n",
      "\n",
      "     la demanda para el trimestre 13 sera de: 900.439393939394\n",
      "     la demanda para el trimestre 14 sera de: 964.0967365967366\n",
      "     la demanda para el trimestre 15 sera de: 1027.7540792540794\n",
      "como se puede ver en los trimestre 13, 14 y 15, la demanda esta subiendo con  64.0  en cada trimestre\n"
     ]
    }
   ],
   "source": [
    "import numpy as np\n",
    "import matplotlib.pyplot as plt\n",
    "trimestre=[1,2,3,4,5,6,7,8,9,10,11,12]\n",
    "venta=[133,292,283,283,302,400,505,608,667,783,785,799]\n",
    "\n",
    "\n",
    "n=len(trimestre)\n",
    "n1=len(venta)\n",
    "trimestre=np.array(trimestre)\n",
    "venta=np.array(venta)\n",
    "#sumando los vectores de x y y\n",
    "sum_trimestre=sum(trimestre)\n",
    "sum_venta=sum(venta)\n",
    "\n",
    "#obteniendo los promedios\n",
    "prom_trimestre=sum_trimestre/n\n",
    "prom_venta=sum_venta/n1\n",
    "\n",
    "#para formula uno\n",
    "#suCu=sum(pow(hora,2))\n",
    "#sumaxy=sum(hora*calificacion)\n",
    "#b=(sumhora*sum_calificacion-n*sumaxy)/(sumhora*sumhora-n*suCu)\n",
    "\n",
    "\n",
    "#para formula dos\n",
    "\n",
    "#elevando al cuadrado la parte de abajo\n",
    "parte_abajo=sum(pow(trimestre-prom_trimestre,2))\n",
    "parte_arriba=sum((trimestre-prom_trimestre)*(venta-prom_venta))\n",
    "b=(parte_arriba)/(parte_abajo)\n",
    "a=prom_venta-b*prom_trimestre\n",
    "\n",
    "print(\"a) Ecuacion de mejor ajuste \\n      y =\",round(a,2),\"+\",round(b,2),\"* x \\n\")\n",
    "\n",
    "print(\"b) Diagrama de dispersion\")\n",
    "plt.plot(trimestre,venta,'o',Label='datos')\n",
    "#plt.plot(trimestre,a+b*trimestre,Label='Ajuste')\n",
    "plt.xlabel('trimestre')\n",
    "plt.ylabel('Ventas')\n",
    "plt.grid()#para poner al grafico lineas\n",
    "plt.legend()\n",
    "plt.show()\n",
    "print(\"\\n\")\n",
    "print(\"c) Pronosticar la demanda de los trimestres 13, 14 y 15 a traves de un analisis de regresion lineal\\n\")\n",
    "\n",
    "print(\"     Ecuacion de mejor ajuste \\n      y =\",round(a,2),\"+\",round(b,2),\"* x \\n\")\n",
    "resu=a+b*13 \n",
    "print(\"     la demanda para el trimestre 13 sera de:\",resu)\n",
    "res=a+b*14  \n",
    "print(\"     la demanda para el trimestre 14 sera de:\",res)\n",
    "resu=a+b*15  \n",
    "print(\"     la demanda para el trimestre 15 sera de:\",resu)\n",
    "print(\"como se puede ver en los trimestre 13, 14 y 15, la demanda esta subiendo con \",round(resu-res,0),\" en cada trimestre\")\n"
   ]
  },
  {
   "cell_type": "code",
   "execution_count": null,
   "metadata": {},
   "outputs": [],
   "source": []
  }
 ],
 "metadata": {
  "kernelspec": {
   "display_name": "Python 3",
   "language": "python",
   "name": "python3"
  },
  "language_info": {
   "codemirror_mode": {
    "name": "ipython",
    "version": 3
   },
   "file_extension": ".py",
   "mimetype": "text/x-python",
   "name": "python",
   "nbconvert_exporter": "python",
   "pygments_lexer": "ipython3",
   "version": "3.7.3"
  }
 },
 "nbformat": 4,
 "nbformat_minor": 2
}
