{
 "cells": [
  {
   "cell_type": "markdown",
   "metadata": {},
   "source": [
    "Ejercicio 4"
   ]
  },
  {
   "cell_type": "code",
   "execution_count": 41,
   "metadata": {},
   "outputs": [
    {
     "name": "stdout",
     "output_type": "stream",
     "text": [
      "a) Determinar X y Y\n",
      "      X = Produccion de trigo\n",
      "      Y = Precio de harina \n",
      "\n",
      "b) Ecuacion de la recta \n",
      "     y = 74.11511789181692 + -1.3536754507628295 * x \n",
      "\n",
      "c) Diagrama de dispersion\n"
     ]
    },
    {
     "data": {
      "image/png": "[encoded data removed]",
      "text/plain": [
       "<Figure size 432x288 with 1 Axes>"
      ]
     },
     "metadata": {
      "needs_background": "light"
     },
     "output_type": "display_data"
    },
    {
     "name": "stdout",
     "output_type": "stream",
     "text": [
      "\n",
      "\n",
      "d) Determinar si la pendiente es positiva o negativa\n",
      "     la pendiente es negativa\n",
      "      ya que la recta de la grafica esta bajando\n",
      "\n"
     ]
    },
    {
     "data": {
      "image/png": "[encoded data removed]",
      "text/plain": [
       "<Figure size 432x288 with 1 Axes>"
      ]
     },
     "metadata": {
      "needs_background": "light"
     },
     "output_type": "display_data"
    },
    {
     "name": "stdout",
     "output_type": "stream",
     "text": [
      "d) analizar y comentar\n",
      "     Ecuacion de la recta \n",
      "     y = 74.12 + -1.35 * x \n",
      "\n",
      "      36.21  =  74.12 + -1.354 * 28\n",
      "      34.86  =  74.12 + -1.354 * 29\n",
      "      33.5  =  74.12 + -1.354 * 30\n",
      "      32.15  =  74.12 + -1.354 * 31\n",
      "      30.8  =  74.12 + -1.354 * 32\n",
      "      29.44  =  74.12 + -1.354 * 33\n",
      "      28.09  =  74.12 + -1.354 * 34\n",
      "      22.68  =  74.12 + -1.354 * 38\n",
      "      21.32  =  74.12 + -1.354 * 39\n",
      "      19.97  =  74.12 + -1.354 * 40\n",
      "deacuerdo al diagrama y al utilizar la ecuacion de la recta para ver resultados se puede ver\n",
      " que el precio de la harina esta bajando cuando la produccion de trigo es mucha\n",
      "cuando la produccion de trigo en toneladas es de 45, el precio de la harina baja a: 13.2\n"
     ]
    }
   ],
   "source": [
    "import numpy as np\n",
    "import matplotlib.pyplot as plt\n",
    "trigo=[30,28,32,25,25,25,22,24,35,40]\n",
    "precio_harina=[25,30,27,40,42,40,50,45,30,25]\n",
    "\n",
    "n=len(trigo)\n",
    "n1=len(precio_harina)\n",
    "trigo=np.array(trigo)\n",
    "precio_harina=np.array(precio_harina)\n",
    "#sumando los vectores de x y y\n",
    "sum_trigo=sum(trigo)\n",
    "sum_precio_harina=sum(precio_harina)\n",
    "\n",
    "#obteniendo los promedios\n",
    "prom_trigo=sum_trigo/n\n",
    "prom_precio_harina=sum_precio_harina/n1\n",
    "\n",
    "\n",
    "#para formula uno\n",
    "#suCu=sum(pow(trigo,2))\n",
    "#sumaxy=sum(trigo*precio_harina)\n",
    "#b=(sum_trigo*sum_precio_harina-n*sumaxy)/(sum_trigo*sum_trigo-n*suCu)\n",
    "\n",
    "\n",
    "#para formula dos\n",
    "#elevando al cuadrado la parte de abajo\n",
    "parte_abajo=sum(pow(trigo-prom_trigo,2))\n",
    "parte_arriba=sum((trigo-prom_trigo)*(precio_harina-prom_precio_harina))\n",
    "b=(parte_arriba)/(parte_abajo)\n",
    "\n",
    "a=prom_precio_harina-b*prom_trigo\n",
    "print(\"a) Determinar X y Y\")\n",
    "print(\"      X = Produccion de trigo\\n      Y = Precio de harina \\n\")\n",
    "\n",
    "print(\"b) Ecuacion de la recta \\n     y =\",a,\"+\",b,\"* x \\n\")\n",
    "print(\"c) Diagrama de dispersion\")\n",
    "plt.plot(trigo,precio_harina,'o',Label='datos')\n",
    "#plt.plot(trigo,a+b*trigo,Label='Ajuste')\n",
    "plt.xlabel('Produccion de trigo')\n",
    "plt.ylabel('Precio de la harina')\n",
    "plt.grid()#para poner al grafico lineas\n",
    "plt.legend()\n",
    "plt.show()\n",
    "print(\"\\n\")\n",
    "print(\"d) Determinar si la pendiente es positiva o negativa\\n     la pendiente es negativa\\n      ya que la recta de la grafica esta bajando\\n\")\n",
    "plt.plot(trigo,precio_harina,'o',Label='datos')\n",
    "plt.plot(trigo,a+b*trigo,Label='Ajuste')\n",
    "plt.xlabel('Produccion de trigo')\n",
    "plt.ylabel('Precio de la harina')\n",
    "plt.grid()#para poner al grafico lineas\n",
    "plt.legend()\n",
    "plt.show()\n",
    "operaci=a+b*45\n",
    "print(\"d) analizar y comentar\")\n",
    "print(\"     Ecuacion de la recta \\n     y =\",round(a,2),\"+\",round(b,2),\"* x \\n\")\n",
    "v=[28,29,30,31,32,33,34,38,39,40]\n",
    "for i in range(0,10):\n",
    "    operacion=a+b*v[i]\n",
    "    print(\"     \",round(operacion,2),\" = \",round(a,2),\"+\",round(b,3),\"*\",v[i])\n",
    "\n",
    "    \n",
    "\n",
    "\n",
    "\n",
    "print(\"deacuerdo al diagrama y al utilizar la ecuacion de la recta para ver resultados se puede ver\\n que el precio de la harina esta bajando cuando la produccion de trigo es mucha\")\n",
    "print(\"cuando la produccion de trigo en toneladas es de 45, el precio de la harina baja a:\",round(operaci,2))\n",
    "\n"
   ]
  },
  {
   "cell_type": "code",
   "execution_count": null,
   "metadata": {},
   "outputs": [],
   "source": []
  }
 ],
 "metadata": {
  "kernelspec": {
   "display_name": "Python 3",
   "language": "python",
   "name": "python3"
  },
  "language_info": {
   "codemirror_mode": {
    "name": "ipython",
    "version": 3
   },
   "file_extension": ".py",
   "mimetype": "text/x-python",
   "name": "python",
   "nbconvert_exporter": "python",
   "pygments_lexer": "ipython3",
   "version": "3.7.3"
  }
 },
 "nbformat": 4,
 "nbformat_minor": 2
}
